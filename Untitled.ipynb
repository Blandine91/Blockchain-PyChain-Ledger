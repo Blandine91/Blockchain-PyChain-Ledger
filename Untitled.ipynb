{
 "cells": [
  {
   "cell_type": "code",
   "execution_count": 7,
   "id": "96d7a020-720f-4488-b738-9284877c2c87",
   "metadata": {},
   "outputs": [
    {
     "name": "stdout",
     "output_type": "stream",
     "text": [
      "Block(data='My First Block!', creator_id=42, timestamp='02:00:59')\n"
     ]
    }
   ],
   "source": [
    "# Creating a Blockchain Block with a DataClass\n",
    "\n",
    "# Imports\n",
    "from dataclasses import dataclass\n",
    "from datetime import datetime\n",
    "from typing import Any\n",
    "\n",
    "# Creating the Block data class\n",
    "@dataclass\n",
    "class Block:\n",
    "    data: Any\n",
    "    creator_id: int\n",
    "    timestamp: str = datetime.utcnow().strftime(\"%H:%M:%S\")\n",
    "\n",
    "# Creating a new block\n",
    "new_block = Block(data=\"My First Block!\", creator_id=42)\n",
    "\n",
    "# Print the new block\n",
    "print(new_block)\n"
   ]
  },
  {
   "cell_type": "code",
   "execution_count": null,
   "id": "ad09c3b5-139b-45a8-80ba-0415d32b596e",
   "metadata": {},
   "outputs": [],
   "source": []
  }
 ],
 "metadata": {
  "kernelspec": {
   "display_name": "Python 3 (ipykernel)",
   "language": "python",
   "name": "python3"
  },
  "language_info": {
   "codemirror_mode": {
    "name": "ipython",
    "version": 3
   },
   "file_extension": ".py",
   "mimetype": "text/x-python",
   "name": "python",
   "nbconvert_exporter": "python",
   "pygments_lexer": "ipython3",
   "version": "3.9.12"
  }
 },
 "nbformat": 4,
 "nbformat_minor": 5
}
